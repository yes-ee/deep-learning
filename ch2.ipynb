{
  "nbformat": 4,
  "nbformat_minor": 0,
  "metadata": {
    "colab": {
      "provenance": [],
      "authorship_tag": "ABX9TyN3HJ7/htiKa4PVuB2EPbkY",
      "include_colab_link": true
    },
    "kernelspec": {
      "name": "python3",
      "display_name": "Python 3"
    },
    "language_info": {
      "name": "python"
    }
  },
  "cells": [
    {
      "cell_type": "markdown",
      "metadata": {
        "id": "view-in-github",
        "colab_type": "text"
      },
      "source": [
        "<a href=\"https://colab.research.google.com/github/yes-ee/deep-learning/blob/main/ch2.ipynb\" target=\"_parent\"><img src=\"https://colab.research.google.com/assets/colab-badge.svg\" alt=\"Open In Colab\"/></a>"
      ]
    },
    {
      "cell_type": "code",
      "execution_count": 1,
      "metadata": {
        "id": "M01LDjXX3DQi"
      },
      "outputs": [],
      "source": [
        "# AND 게이트 구현 (단층 퍼셉트론)\n",
        "\n",
        "import numpy as np\n",
        "\n",
        "# def AND(x1, x2):\n",
        "#   w1, w2, theta = 0.5, 0.5, 0.7\n",
        "#   tmp = x1 * w1 + x2 * w2\n",
        "#   if tmp <= theta:\n",
        "#     return 0\n",
        "#   elif tmp > theta:\n",
        "#     return 1\n",
        "\n",
        "def AND(x1, x2):\n",
        "  x = np.array([x1, x2]) # 입력 x1, x2\n",
        "  w = np.array([0.5, 0.5]) # 가중치 w1, w2\n",
        "  b = -0.7 # bias(편향)\n",
        "  tmp = np.sum(x * w) + b\n",
        "  if tmp <= 0:\n",
        "    return 0\n",
        "  elif tmp > 0:\n",
        "    return 1"
      ]
    },
    {
      "cell_type": "code",
      "source": [
        "# OR 게이트 구현\n",
        "\n",
        "def OR(x1, x2):\n",
        "  x = np.array([x1, x2])\n",
        "  w = np.array([0.5, 0.5])\n",
        "  b = -0.4\n",
        "  tmp = np.sum(x * w) + b\n",
        "  if tmp <= 0:\n",
        "    return 0\n",
        "  elif tmp > 0:\n",
        "    return 1"
      ],
      "metadata": {
        "id": "jO0_qVn_-aQ8"
      },
      "execution_count": 2,
      "outputs": []
    },
    {
      "cell_type": "code",
      "source": [
        "# NAND 게이트 구현\n",
        "\n",
        "def NAND(x1, x2):\n",
        "  x = np.array([x1, x2])\n",
        "  w = np.array([-0.5, -0.5])\n",
        "  b = 0.7\n",
        "  tmp = np.sum(x * w) + b\n",
        "  if tmp <= 0:\n",
        "    return 0\n",
        "  elif tmp > 0:\n",
        "    return 1"
      ],
      "metadata": {
        "id": "LheJ-Ti0_k7p"
      },
      "execution_count": 3,
      "outputs": []
    },
    {
      "cell_type": "code",
      "source": [
        "# XOR 게이트 구현\n",
        "# 다층 퍼셉트론\n",
        "# AND(OR, NAND) 의 조합으로 구현\n",
        "\n",
        "def XOR(x1, x2):\n",
        "  s1 = NAND(x1, x2) # (1, 1) 제외 1\n",
        "  s2 = OR(x1, x2) # (0, 0) 제외 1\n",
        "  y = AND(s1, s2)\n",
        "  return y\n"
      ],
      "metadata": {
        "id": "8pP507A1A5Vv"
      },
      "execution_count": 4,
      "outputs": []
    },
    {
      "cell_type": "code",
      "source": [
        "for xs in [(0, 0), (0, 1), (1, 0), (1, 1)]:\n",
        "  y = AND(xs[0], xs[1])\n",
        "  print(str(xs) + \" -> \" + str(y))"
      ],
      "metadata": {
        "colab": {
          "base_uri": "https://localhost:8080/"
        },
        "id": "eA38x0-h4A_A",
        "outputId": "bb520ddc-c739-4403-b5b5-d285339dc760"
      },
      "execution_count": 5,
      "outputs": [
        {
          "output_type": "stream",
          "name": "stdout",
          "text": [
            "(0, 0) -> 0\n",
            "(0, 1) -> 0\n",
            "(1, 0) -> 0\n",
            "(1, 1) -> 1\n"
          ]
        }
      ]
    },
    {
      "cell_type": "code",
      "source": [
        "# unit test\n",
        "\n",
        "import unittest\n",
        "\n",
        "class TestAnd(unittest.TestCase):\n",
        "  def test_and_00(self):\n",
        "    y = AND(0, 0)\n",
        "    self.assertEqual(y, 0)\n",
        "  def test_and_01(self):\n",
        "    y = AND(0, 1)\n",
        "    self.assertEqual(y, 0)\n",
        "  def test_and_10(self):\n",
        "    y = AND(1, 0)\n",
        "    self.assertEqual(y, 0)\n",
        "  def test_and_11(self):\n",
        "    y = AND(1, 1)\n",
        "    self.assertEqual(y, 1)\n",
        "\n",
        "class TestOr(unittest.TestCase):\n",
        "  def test_or_00(self):\n",
        "    y = OR(0, 0)\n",
        "    self.assertEqual(y, 0)\n",
        "  def test_or_01(self):\n",
        "    y = OR(0, 1)\n",
        "    self.assertEqual(y, 1)\n",
        "  def test_or_10(self):\n",
        "    y = OR(1, 0)\n",
        "    self.assertEqual(y, 1)\n",
        "  def test_or_11(self):\n",
        "    y = OR(1, 1)\n",
        "    self.assertEqual(y, 1)\n",
        "\n",
        "class TestNand(unittest.TestCase):\n",
        "  def test_nand_00(self):\n",
        "    y = NAND(0, 0)\n",
        "    self.assertEqual(y, 1)\n",
        "  def test_nand_01(self):\n",
        "    y = NAND(0, 1)\n",
        "    self.assertEqual(y, 1)\n",
        "  def test_nand_10(self):\n",
        "    y = NAND(1, 0)\n",
        "    self.assertEqual(y, 1)\n",
        "  def test_nand_11(self):\n",
        "    y = NAND(1, 1)\n",
        "    self.assertEqual(y, 0)\n",
        "\n",
        "class TestXor(unittest.TestCase):\n",
        "  def test_xor_00(self):\n",
        "    y = XOR(0, 0)\n",
        "    self.assertEqual(y, 0)\n",
        "  def test_xor_01(self):\n",
        "    y = XOR(0, 1)\n",
        "    self.assertEqual(y, 1)\n",
        "  def test_xor_10(self):\n",
        "    y = XOR(1, 0)\n",
        "    self.assertEqual(y, 1)\n",
        "  def test_xor_11(self):\n",
        "    y = XOR(1, 1)\n",
        "    self.assertEqual(y, 0)\n",
        "\n",
        "if __name__ == '__main__':\n",
        "   unittest.main(argv=[''], verbosity=2, exit=False)"
      ],
      "metadata": {
        "colab": {
          "base_uri": "https://localhost:8080/"
        },
        "id": "tM_5nakw6-rZ",
        "outputId": "620bf9b8-135c-4edd-affc-4c6b88a2d338"
      },
      "execution_count": 6,
      "outputs": [
        {
          "output_type": "stream",
          "name": "stderr",
          "text": [
            "test_and_00 (__main__.TestAnd) ... ok\n",
            "test_and_01 (__main__.TestAnd) ... ok\n",
            "test_and_10 (__main__.TestAnd) ... ok\n",
            "test_and_11 (__main__.TestAnd) ... ok\n",
            "test_nand_00 (__main__.TestNand) ... ok\n",
            "test_nand_01 (__main__.TestNand) ... ok\n",
            "test_nand_10 (__main__.TestNand) ... ok\n",
            "test_nand_11 (__main__.TestNand) ... ok\n",
            "test_or_00 (__main__.TestOr) ... ok\n",
            "test_or_01 (__main__.TestOr) ... ok\n",
            "test_or_10 (__main__.TestOr) ... ok\n",
            "test_or_11 (__main__.TestOr) ... ok\n",
            "test_xor_00 (__main__.TestXor) ... ok\n",
            "test_xor_01 (__main__.TestXor) ... ok\n",
            "test_xor_10 (__main__.TestXor) ... ok\n",
            "test_xor_11 (__main__.TestXor) ... ok\n",
            "\n",
            "----------------------------------------------------------------------\n",
            "Ran 16 tests in 0.048s\n",
            "\n",
            "OK\n"
          ]
        }
      ]
    }
  ]
}